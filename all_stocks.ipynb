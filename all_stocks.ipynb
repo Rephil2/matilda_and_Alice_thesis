{
 "cells": [
  {
   "cell_type": "code",
   "execution_count": 1,
   "metadata": {},
   "outputs": [],
   "source": [
    "import pandas as pd\n",
    "pd.set_option(\"display.precision\", 10)\n",
    "pd.set_option('display.max_rows', 40)\n",
    "pd.set_option('display.max_columns', None)\n",
    "pd.set_option('display.width', 300)\n",
    "#pd.set_option('display.max_colwidth', -1)\n",
    "from scipy import stats as st\n",
    "import scipy.stats\n",
    "import utils as ut\n",
    "import numpy as np\n",
    "from tqdm import tqdm\n",
    "import math"
   ]
  },
  {
   "cell_type": "markdown",
   "metadata": {},
   "source": [
    "### Data Loading & Settings"
   ]
  },
  {
   "cell_type": "code",
   "execution_count": 2,
   "metadata": {},
   "outputs": [],
   "source": [
    "event_frame_size = 21 # Counts from the right in excel sheet 21 columns and sets the split between estimation and event window \n",
    "event_sizes = [3,7,11,21] # event window size. This number does not effect estimation window size only event window size\n",
    "OMXPI_csv = \"OMXPI.xlsx_Sheet1\"\n",
    "stock_csv = \"Financial_Stock_Data\"\n"
   ]
  },
  {
   "cell_type": "code",
   "execution_count": 4,
   "metadata": {},
   "outputs": [
    {
     "name": "stderr",
     "output_type": "stream",
     "text": [
      "  4%|▍         | 15/381 [00:02<01:10,  5.16it/s]"
     ]
    },
    {
     "name": "stdout",
     "output_type": "stream",
     "text": [
      "Stock 9 in row: 27 disregarded. nan values present\n",
      "Stock 10 in row: 30 disregarded. nan values present\n",
      "Stock 11 in row: 33 disregarded. nan values present\n",
      "Stock 12 in row: 36 disregarded. nan values present\n",
      "Stock 13 in row: 39 disregarded. nan values present\n"
     ]
    },
    {
     "name": "stderr",
     "output_type": "stream",
     "text": [
      " 34%|███▍      | 130/381 [00:33<01:05,  3.83it/s]"
     ]
    },
    {
     "name": "stdout",
     "output_type": "stream",
     "text": [
      "Stock 130 in row: 390 disregarded. nan values present\n"
     ]
    },
    {
     "name": "stderr",
     "output_type": "stream",
     "text": [
      " 41%|████▏     | 158/381 [00:39<00:50,  4.41it/s]"
     ]
    },
    {
     "name": "stdout",
     "output_type": "stream",
     "text": [
      "Stock 156 in row: 468 disregarded. nan values present\n"
     ]
    },
    {
     "name": "stderr",
     "output_type": "stream",
     "text": [
      " 79%|███████▉  | 302/381 [01:19<00:21,  3.65it/s]"
     ]
    },
    {
     "name": "stdout",
     "output_type": "stream",
     "text": [
      "Stock 302 in row: 906 disregarded. nan values present\n",
      "Stock 303 in row: 909 disregarded. nan values present\n",
      "Stock 304 in row: 912 disregarded. nan values present\n",
      "Stock 305 in row: 915 disregarded. nan values present\n",
      "Stock 306 in row: 918 disregarded. nan values present\n",
      "Stock 307 in row: 921 disregarded. nan values present\n"
     ]
    },
    {
     "name": "stderr",
     "output_type": "stream",
     "text": [
      " 87%|████████▋ | 332/381 [01:26<00:11,  4.29it/s]"
     ]
    },
    {
     "name": "stdout",
     "output_type": "stream",
     "text": [
      "Stock 330 in row: 990 disregarded. nan values present\n"
     ]
    },
    {
     "name": "stderr",
     "output_type": "stream",
     "text": [
      " 90%|████████▉ | 342/381 [01:28<00:11,  3.38it/s]/Users/butenko/opt/anaconda3/lib/python3.7/site-packages/ipykernel_launcher.py:90: RuntimeWarning: divide by zero encountered in double_scalars\n",
      " 92%|█████████▏| 350/381 [01:30<00:06,  4.51it/s]"
     ]
    },
    {
     "name": "stdout",
     "output_type": "stream",
     "text": [
      "Stock 346 in row: 1038 disregarded. nan values present\n",
      "Stock 347 in row: 1041 disregarded. nan values present\n",
      "Stock 348 in row: 1044 disregarded. nan values present\n"
     ]
    },
    {
     "name": "stderr",
     "output_type": "stream",
     "text": [
      " 99%|█████████▉| 378/381 [01:37<00:00,  4.17it/s]"
     ]
    },
    {
     "name": "stdout",
     "output_type": "stream",
     "text": [
      "Stock 376 in row: 1128 disregarded. nan values present\n"
     ]
    },
    {
     "name": "stderr",
     "output_type": "stream",
     "text": [
      "100%|██████████| 381/381 [01:38<00:00,  3.85it/s]\n",
      "  0%|          | 0/381 [00:00<?, ?it/s]"
     ]
    },
    {
     "name": "stdout",
     "output_type": "stream",
     "text": [
      "Event 3 completed!\n"
     ]
    },
    {
     "name": "stderr",
     "output_type": "stream",
     "text": [
      "  4%|▍         | 15/381 [00:02<01:13,  4.95it/s]"
     ]
    },
    {
     "name": "stdout",
     "output_type": "stream",
     "text": [
      "Stock 9 in row: 27 disregarded. nan values present\n",
      "Stock 10 in row: 30 disregarded. nan values present\n",
      "Stock 11 in row: 33 disregarded. nan values present\n",
      "Stock 12 in row: 36 disregarded. nan values present\n",
      "Stock 13 in row: 39 disregarded. nan values present\n"
     ]
    },
    {
     "name": "stderr",
     "output_type": "stream",
     "text": [
      " 35%|███▍      | 132/381 [00:35<00:59,  4.19it/s]"
     ]
    },
    {
     "name": "stdout",
     "output_type": "stream",
     "text": [
      "Stock 130 in row: 390 disregarded. nan values present\n"
     ]
    },
    {
     "name": "stderr",
     "output_type": "stream",
     "text": [
      " 41%|████▏     | 158/381 [00:42<00:50,  4.41it/s]"
     ]
    },
    {
     "name": "stdout",
     "output_type": "stream",
     "text": [
      "Stock 156 in row: 468 disregarded. nan values present\n"
     ]
    },
    {
     "name": "stderr",
     "output_type": "stream",
     "text": [
      " 81%|████████  | 309/381 [01:25<00:15,  4.64it/s]"
     ]
    },
    {
     "name": "stdout",
     "output_type": "stream",
     "text": [
      "Stock 302 in row: 906 disregarded. nan values present\n",
      "Stock 303 in row: 909 disregarded. nan values present\n",
      "Stock 304 in row: 912 disregarded. nan values present\n",
      "Stock 305 in row: 915 disregarded. nan values present\n",
      "Stock 306 in row: 918 disregarded. nan values present\n",
      "Stock 307 in row: 921 disregarded. nan values present\n"
     ]
    },
    {
     "name": "stderr",
     "output_type": "stream",
     "text": [
      " 87%|████████▋ | 332/381 [01:31<00:11,  4.10it/s]"
     ]
    },
    {
     "name": "stdout",
     "output_type": "stream",
     "text": [
      "Stock 330 in row: 990 disregarded. nan values present\n"
     ]
    },
    {
     "name": "stderr",
     "output_type": "stream",
     "text": [
      " 92%|█████████▏| 350/381 [01:36<00:08,  3.68it/s]"
     ]
    },
    {
     "name": "stdout",
     "output_type": "stream",
     "text": [
      "Stock 346 in row: 1038 disregarded. nan values present\n",
      "Stock 347 in row: 1041 disregarded. nan values present\n",
      "Stock 348 in row: 1044 disregarded. nan values present\n"
     ]
    },
    {
     "name": "stderr",
     "output_type": "stream",
     "text": [
      " 99%|█████████▊| 376/381 [01:46<00:01,  3.10it/s]"
     ]
    },
    {
     "name": "stdout",
     "output_type": "stream",
     "text": [
      "Stock 376 in row: 1128 disregarded. nan values present\n"
     ]
    },
    {
     "name": "stderr",
     "output_type": "stream",
     "text": [
      "100%|██████████| 381/381 [01:47<00:00,  3.55it/s]\n",
      "  0%|          | 0/381 [00:00<?, ?it/s]"
     ]
    },
    {
     "name": "stdout",
     "output_type": "stream",
     "text": [
      "Event 7 completed!\n"
     ]
    },
    {
     "name": "stderr",
     "output_type": "stream",
     "text": [
      "  4%|▍         | 15/381 [00:03<01:19,  4.59it/s]"
     ]
    },
    {
     "name": "stdout",
     "output_type": "stream",
     "text": [
      "Stock 9 in row: 27 disregarded. nan values present\n",
      "Stock 10 in row: 30 disregarded. nan values present\n",
      "Stock 11 in row: 33 disregarded. nan values present\n",
      "Stock 12 in row: 36 disregarded. nan values present\n",
      "Stock 13 in row: 39 disregarded. nan values present\n"
     ]
    },
    {
     "name": "stderr",
     "output_type": "stream",
     "text": [
      " 34%|███▍      | 130/381 [00:45<02:15,  1.85it/s]"
     ]
    },
    {
     "name": "stdout",
     "output_type": "stream",
     "text": [
      "Stock 130 in row: 390 disregarded. nan values present\n"
     ]
    },
    {
     "name": "stderr",
     "output_type": "stream",
     "text": [
      " 41%|████      | 156/381 [01:01<02:00,  1.87it/s]"
     ]
    },
    {
     "name": "stdout",
     "output_type": "stream",
     "text": [
      "Stock 156 in row: 468 disregarded. nan values present\n"
     ]
    },
    {
     "name": "stderr",
     "output_type": "stream",
     "text": [
      " 81%|████████  | 309/381 [02:10<00:14,  4.84it/s]"
     ]
    },
    {
     "name": "stdout",
     "output_type": "stream",
     "text": [
      "Stock 302 in row: 906 disregarded. nan values present\n",
      "Stock 303 in row: 909 disregarded. nan values present\n",
      "Stock 304 in row: 912 disregarded. nan values present\n",
      "Stock 305 in row: 915 disregarded. nan values present\n",
      "Stock 306 in row: 918 disregarded. nan values present\n",
      "Stock 307 in row: 921 disregarded. nan values present\n"
     ]
    },
    {
     "name": "stderr",
     "output_type": "stream",
     "text": [
      " 87%|████████▋ | 330/381 [02:18<00:20,  2.46it/s]"
     ]
    },
    {
     "name": "stdout",
     "output_type": "stream",
     "text": [
      "Stock 330 in row: 990 disregarded. nan values present\n"
     ]
    },
    {
     "name": "stderr",
     "output_type": "stream",
     "text": [
      " 92%|█████████▏| 350/381 [02:23<00:07,  4.42it/s]"
     ]
    },
    {
     "name": "stdout",
     "output_type": "stream",
     "text": [
      "Stock 346 in row: 1038 disregarded. nan values present\n",
      "Stock 347 in row: 1041 disregarded. nan values present\n",
      "Stock 348 in row: 1044 disregarded. nan values present\n"
     ]
    },
    {
     "name": "stderr",
     "output_type": "stream",
     "text": [
      " 99%|█████████▉| 378/381 [02:31<00:00,  4.02it/s]"
     ]
    },
    {
     "name": "stdout",
     "output_type": "stream",
     "text": [
      "Stock 376 in row: 1128 disregarded. nan values present\n"
     ]
    },
    {
     "name": "stderr",
     "output_type": "stream",
     "text": [
      "100%|██████████| 381/381 [02:32<00:00,  2.50it/s]\n",
      "  0%|          | 0/381 [00:00<?, ?it/s]"
     ]
    },
    {
     "name": "stdout",
     "output_type": "stream",
     "text": [
      "Event 11 completed!\n"
     ]
    },
    {
     "name": "stderr",
     "output_type": "stream",
     "text": [
      "  2%|▏         | 9/381 [00:02<01:38,  3.76it/s]"
     ]
    },
    {
     "name": "stdout",
     "output_type": "stream",
     "text": [
      "Stock 9 in row: 27 disregarded. nan values present\n",
      "Stock 10 in row: 30 disregarded. nan values present\n",
      "Stock 11 in row: 33 disregarded. nan values present\n",
      "Stock 12 in row: 36 disregarded. nan values present\n",
      "Stock 13 in row: 39 disregarded. nan values present\n"
     ]
    },
    {
     "name": "stderr",
     "output_type": "stream",
     "text": [
      " 34%|███▍      | 130/381 [00:37<01:13,  3.42it/s]"
     ]
    },
    {
     "name": "stdout",
     "output_type": "stream",
     "text": [
      "Stock 130 in row: 390 disregarded. nan values present\n"
     ]
    },
    {
     "name": "stderr",
     "output_type": "stream",
     "text": [
      " 41%|████      | 156/381 [00:47<01:30,  2.49it/s]"
     ]
    },
    {
     "name": "stdout",
     "output_type": "stream",
     "text": [
      "Stock 156 in row: 468 disregarded. nan values present\n"
     ]
    },
    {
     "name": "stderr",
     "output_type": "stream",
     "text": [
      " 79%|███████▉  | 302/381 [01:35<00:27,  2.83it/s]"
     ]
    },
    {
     "name": "stdout",
     "output_type": "stream",
     "text": [
      "Stock 302 in row: 906 disregarded. nan values present\n",
      "Stock 303 in row: 909 disregarded. nan values present\n",
      "Stock 304 in row: 912 disregarded. nan values present\n",
      "Stock 305 in row: 915 disregarded. nan values present\n",
      "Stock 306 in row: 918 disregarded. nan values present\n",
      "Stock 307 in row: 921 disregarded. nan values present\n"
     ]
    },
    {
     "name": "stderr",
     "output_type": "stream",
     "text": [
      " 87%|████████▋ | 330/381 [01:45<00:27,  1.84it/s]"
     ]
    },
    {
     "name": "stdout",
     "output_type": "stream",
     "text": [
      "Stock 330 in row: 990 disregarded. nan values present\n"
     ]
    },
    {
     "name": "stderr",
     "output_type": "stream",
     "text": [
      " 91%|█████████ | 346/381 [01:56<00:21,  1.61it/s]"
     ]
    },
    {
     "name": "stdout",
     "output_type": "stream",
     "text": [
      "Stock 346 in row: 1038 disregarded. nan values present\n",
      "Stock 347 in row: 1041 disregarded. nan values present\n",
      "Stock 348 in row: 1044 disregarded. nan values present\n"
     ]
    },
    {
     "name": "stderr",
     "output_type": "stream",
     "text": [
      " 99%|█████████▊| 376/381 [02:12<00:03,  1.53it/s]"
     ]
    },
    {
     "name": "stdout",
     "output_type": "stream",
     "text": [
      "Stock 376 in row: 1128 disregarded. nan values present\n"
     ]
    },
    {
     "name": "stderr",
     "output_type": "stream",
     "text": [
      "100%|██████████| 381/381 [02:14<00:00,  2.83it/s]\n"
     ]
    },
    {
     "name": "stdout",
     "output_type": "stream",
     "text": [
      "Event 21 completed!\n"
     ]
    }
   ],
   "source": [
    "for event_size in event_sizes:\n",
    "    \n",
    "    ### LOADING DATA ---------------------------------------------------  \n",
    "    # Load OMXPI data\n",
    "    omxp_index = pd.read_csv(\"data/\"+OMXPI_csv+\".csv\")\n",
    "    \n",
    "    # load stock data\n",
    "    stock_csv = \"Financial_Stock_Data\"\n",
    "    df_dnb = pd.read_csv (\"data/\"+stock_csv+\".csv\", delimiter=\",\", header=None)\n",
    "\n",
    "    \n",
    "    ### STOCK Calculation ---------------------------------------------- \n",
    "    \n",
    "    # Locate window split in table data \n",
    "    thres = df_dnb.shape[1]-event_frame_size\n",
    "\n",
    "    # Get event window index values \n",
    "    lower_idx, upper_idx = ut.event_win_indexes(thres, event_frame_size, event_size)\n",
    "\n",
    "    # Define variables\n",
    "    stocks_data = pd.DataFrame()\n",
    "    stocks_metadata = pd.DataFrame()\n",
    "    \n",
    "    # Each data entry takes up 3 rows so loop iterations are divide by 3\n",
    "    for it in tqdm(range(int(df_dnb.shape[0]/3))):\n",
    "        # Select stock(relevant rows) based on iterator(it) from table \n",
    "        df_stock = df_dnb.iloc[0+it*3:2+it*3]\n",
    "        # convert to list\n",
    "        stock = df_stock.values.tolist()\n",
    "\n",
    "        # Check for nan values. If true then skip stock\n",
    "        if ut.has_nan_values(stock[1], it): continue\n",
    "\n",
    "        # Convert stock values from strings to floats\n",
    "        stock[1][1:] = [float(i) for i in stock[1][1:]]\n",
    "\n",
    "        # Get the respective OMXPI values\n",
    "        OMXPI_values = ut.get_omxpi_values(omxp_index, stock[0])\n",
    "        stock.append(OMXPI_values)\n",
    "\n",
    "        # Get the stock return values\n",
    "        stock_return_values = ut.stock_return_values(stock[1])\n",
    "        stock.append(stock_return_values)\n",
    "\n",
    "        # Get the market return values\n",
    "        market_return_values = ut.market_return_values(stock[2])\n",
    "        stock.append(market_return_values)\n",
    "\n",
    "        # Convert newly created data back to dataframe\n",
    "        df_stock = pd.DataFrame(stock)\n",
    "\n",
    "        # Define window sizes \n",
    "        estimatation_window = ut.get_windows(df_stock, thres, event_size)\n",
    "        est_win_size = estimatation_window.shape[1]-1\n",
    "\n",
    "        # Get slope and intercept\n",
    "        stock_return_estw = estimatation_window.iloc[[3]].values[0][2:].tolist()\n",
    "        market_return_estw = estimatation_window.iloc[[4]].values[0][2:].tolist()\n",
    "        intercept, slope, stderr = ut.linear_regression(market_return_estw, stock_return_estw)\n",
    "\n",
    "        # Compute Standard deviation\n",
    "        lst1 = df_stock.iloc[3][thres:].to_list()\n",
    "        lst2 = df_stock.iloc[4][thres:].to_list()\n",
    "        std_dev = pd.DataFrame(list(zip(lst1, lst2))).std()[0]\n",
    "\n",
    "        # Compute Normal return\n",
    "        market_return = df_stock.iloc[4].values.tolist()[1:]\n",
    "        normal_return = ut.normal_return_values(market_return, slope, intercept)\n",
    "        stock.append(normal_return)\n",
    "\n",
    "        # Compute Abnormal return\n",
    "        abnormal_return = np.subtract(stock[3][1:],stock[5][1:]).tolist()\n",
    "        abnormal_return.insert(0,\"AbnormalReturn\")\n",
    "        stock.append(abnormal_return)\n",
    "\n",
    "        # Compute t-statistic R\n",
    "        abnormal_return = stock[6][1:]\n",
    "        t_stat_r = ut.t_stat_r(abnormal_return, stderr)\n",
    "        stock.append(t_stat_r)\n",
    "\n",
    "        # Put the stock data into a table again\n",
    "        df_stock = pd.DataFrame(stock)\n",
    "\n",
    "        # Get car value\n",
    "        abnormalReturn_event_window = df_stock.iloc[6][lower_idx:upper_idx]\n",
    "        car_value = abnormalReturn_event_window.sum()\n",
    "\n",
    "\n",
    "        # Get t-stat CAR\n",
    "        t_stat_car = car_value / (std_dev*(event_size)**(1/2))\n",
    "\n",
    "        # Collect all stocks together in one table \n",
    "        # --------------------------------------------\n",
    "        # Add stock meta-data to data table \n",
    "        row1 = [\"df_stockRow\", \"df_stock#\",\"intercept\", \"slope\", \"standard_error\", \"t_stat_car\", \"car_value\", \"eve_win_size\"]\n",
    "        row2 = [[(it*3), (it), intercept, slope, stderr, t_stat_car, car_value, event_size]]\n",
    "        variables = pd.DataFrame(row2)\n",
    "        variables.columns = row1\n",
    "\n",
    "        # Collect all stock data \n",
    "        stocks_data = pd.concat([stocks_data, df_stock], axis=0)\n",
    "        stocks_metadata = pd.concat([stocks_metadata, variables], axis=0)\n",
    "        \n",
    "\n",
    "    ### Pirate Calculations 1 ------------------------------------------ \n",
    "    df_AbnormalReturn = stocks_data.loc[stocks_data[0] == \"AbnormalReturn\"]\n",
    "\n",
    "    # Means for each column\n",
    "    aar_means = ut.mean(df_AbnormalReturn, lower_idx, upper_idx)\n",
    "\n",
    "    # Standard deviation for each column\n",
    "    aar_stds = ut.st_dev(df_AbnormalReturn, lower_idx, upper_idx)\n",
    "\n",
    "    # 1-sample T-test and P-value\n",
    "    aar_tstats, aar_pvalues = ut.t_test(df_AbnormalReturn, lower_idx, upper_idx)\n",
    "    \n",
    "    ### Pirate Calculations 2 ------------------------------------------ \n",
    "    \n",
    "    oddvalues = {}\n",
    "    # AAR Values \n",
    "    row1 = [\"AAR\", \"standardDev\", \"Tstat\", \"Pvalue\"]\n",
    "    row2 = [aar_means, aar_stds, aar_tstats, aar_pvalues]\n",
    "    variables = pd.DataFrame(row2)\n",
    "    variables = variables.T\n",
    "    variables.columns = row1\n",
    "\n",
    "    # CAAR Values\n",
    "    ev21 = variables[\"AAR\"].sum()\n",
    "    ev11 = variables[\"AAR\"][5:-5].sum()\n",
    "    ev5 = variables[\"AAR\"][7:-7].sum()\n",
    "    ev3 = variables[\"AAR\"][9:-9].sum()\n",
    "    CAAR = {\"ev21\": ev21, \"ev11\": ev11, \"ev5\": ev5, \"ev3\": ev3}\n",
    "    oddvalues[\"caar_value\"] = CAAR[\"ev21\"]\n",
    "\n",
    "    # CAAR standard deviations\n",
    "    caar_std = {}\n",
    "    carlist = []\n",
    "    for key, caar in CAAR.items():\n",
    "        for car in stocks_metadata[\"car_value\"]:\n",
    "            carlist.append((car-caar)**2)\n",
    "        caar_std[key] = math.sqrt(sum(carlist)/len(carlist))\n",
    "    oddvalues[\"caar_std\"] = caar_std[\"ev21\"]  \n",
    "\n",
    "    for i in zip(list(CAAR.values()), list(caar_std.values())):  \n",
    "        ttest = i[0]/i[1]\n",
    "        oddvalues[\"caar_pvalue\"] = scipy.stats.t.sf(ttest, df=df_dnb.shape[0]/3-1)\n",
    "        break\n",
    "\n",
    "    # WilCoxon test\n",
    "    oddvalues[\"willCox_stat\"], oddvalues[\"willCox_pvalue\"] = scipy.stats.wilcoxon(stocks_metadata[\"car_value\"])\n",
    "    oddvalues = pd.DataFrame(oddvalues, index=[0])\n",
    "    \n",
    "    ### SAVE to EXCEL --------------------------------------------------  \n",
    "    print(\"Saving to excel...\")\n",
    "    # Create a Pandas Excel writer\n",
    "    path = \"export/\"+stock_csv+\"_winsize\"+str(event_size)+'.xlsx'\n",
    "    writer = pd.ExcelWriter(path, engine='xlsxwriter')\n",
    "\n",
    "    # Write each dataframe to a different worksheet.\n",
    "    stocks_data.to_excel(writer, sheet_name='data')\n",
    "    stocks_metadata.to_excel(writer, sheet_name='meta-data')\n",
    "    variables.to_excel(writer, sheet_name='AAR')\n",
    "    oddvalues.to_excel(writer, sheet_name='CAAR_n_Cox')\n",
    "\n",
    "    # Close the Pandas Excel writer and output the Excel file.\n",
    "    writer.save()\n",
    "    print(\"Eventsize \"+str(event_size)+ \" completed!\")\n",
    "    "
   ]
  }
 ],
 "metadata": {
  "kernelspec": {
   "display_name": "Python 3",
   "language": "python",
   "name": "python3"
  },
  "language_info": {
   "codemirror_mode": {
    "name": "ipython",
    "version": 3
   },
   "file_extension": ".py",
   "mimetype": "text/x-python",
   "name": "python",
   "nbconvert_exporter": "python",
   "pygments_lexer": "ipython3",
   "version": "3.7.6"
  }
 },
 "nbformat": 4,
 "nbformat_minor": 5
}
